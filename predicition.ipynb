{
 "cells": [
  {
   "cell_type": "code",
   "execution_count": 3,
   "id": "cc10daf6",
   "metadata": {},
   "outputs": [],
   "source": [
    "import numpy as np\n",
    "import tensorflow as tf\n",
    "from tensorflow.keras.datasets import imdb\n",
    "from tensorflow.keras.preprocessing import sequence\n",
    "from tensorflow.keras.models import load_model"
   ]
  },
  {
   "cell_type": "code",
   "execution_count": 4,
   "id": "4f24bb4a",
   "metadata": {},
   "outputs": [],
   "source": [
    "## LOad The word index\n",
    "word_index = imdb.get_word_index()\n",
    "reverse_word_index={values: key for (key, values) in word_index.items()}\n"
   ]
  },
  {
   "cell_type": "code",
   "execution_count": 5,
   "id": "014400ee",
   "metadata": {},
   "outputs": [
    {
     "name": "stderr",
     "output_type": "stream",
     "text": [
      "2025-05-06 09:57:39.120714: E external/local_xla/xla/stream_executor/cuda/cuda_platform.cc:51] failed call to cuInit: INTERNAL: CUDA error: Failed call to cuInit: UNKNOWN ERROR (303)\n",
      "WARNING:absl:Compiled the loaded model, but the compiled metrics have yet to be built. `model.compile_metrics` will be empty until you train or evaluate the model.\n"
     ]
    }
   ],
   "source": [
    "## Load the model\n",
    "model=load_model('simple_rnn_model.h5')"
   ]
  },
  {
   "cell_type": "code",
   "execution_count": 6,
   "id": "2315c2b2",
   "metadata": {},
   "outputs": [
    {
     "data": {
      "text/html": [
       "<pre style=\"white-space:pre;overflow-x:auto;line-height:normal;font-family:Menlo,'DejaVu Sans Mono',consolas,'Courier New',monospace\"><span style=\"font-weight: bold\">Model: \"sequential_2\"</span>\n",
       "</pre>\n"
      ],
      "text/plain": [
       "\u001b[1mModel: \"sequential_2\"\u001b[0m\n"
      ]
     },
     "metadata": {},
     "output_type": "display_data"
    },
    {
     "data": {
      "text/html": [
       "<pre style=\"white-space:pre;overflow-x:auto;line-height:normal;font-family:Menlo,'DejaVu Sans Mono',consolas,'Courier New',monospace\">┏━━━━━━━━━━━━━━━━━━━━━━━━━━━━━━━━━┳━━━━━━━━━━━━━━━━━━━━━━━━┳━━━━━━━━━━━━━━━┓\n",
       "┃<span style=\"font-weight: bold\"> Layer (type)                    </span>┃<span style=\"font-weight: bold\"> Output Shape           </span>┃<span style=\"font-weight: bold\">       Param # </span>┃\n",
       "┡━━━━━━━━━━━━━━━━━━━━━━━━━━━━━━━━━╇━━━━━━━━━━━━━━━━━━━━━━━━╇━━━━━━━━━━━━━━━┩\n",
       "│ embedding_2 (<span style=\"color: #0087ff; text-decoration-color: #0087ff\">Embedding</span>)         │ (<span style=\"color: #00d7ff; text-decoration-color: #00d7ff\">None</span>, <span style=\"color: #00af00; text-decoration-color: #00af00\">500</span>, <span style=\"color: #00af00; text-decoration-color: #00af00\">128</span>)       │     <span style=\"color: #00af00; text-decoration-color: #00af00\">1,280,000</span> │\n",
       "├─────────────────────────────────┼────────────────────────┼───────────────┤\n",
       "│ simple_rnn_2 (<span style=\"color: #0087ff; text-decoration-color: #0087ff\">SimpleRNN</span>)        │ (<span style=\"color: #00d7ff; text-decoration-color: #00d7ff\">None</span>, <span style=\"color: #00af00; text-decoration-color: #00af00\">128</span>)            │        <span style=\"color: #00af00; text-decoration-color: #00af00\">32,896</span> │\n",
       "├─────────────────────────────────┼────────────────────────┼───────────────┤\n",
       "│ dense_2 (<span style=\"color: #0087ff; text-decoration-color: #0087ff\">Dense</span>)                 │ (<span style=\"color: #00d7ff; text-decoration-color: #00d7ff\">None</span>, <span style=\"color: #00af00; text-decoration-color: #00af00\">1</span>)              │           <span style=\"color: #00af00; text-decoration-color: #00af00\">129</span> │\n",
       "└─────────────────────────────────┴────────────────────────┴───────────────┘\n",
       "</pre>\n"
      ],
      "text/plain": [
       "┏━━━━━━━━━━━━━━━━━━━━━━━━━━━━━━━━━┳━━━━━━━━━━━━━━━━━━━━━━━━┳━━━━━━━━━━━━━━━┓\n",
       "┃\u001b[1m \u001b[0m\u001b[1mLayer (type)                   \u001b[0m\u001b[1m \u001b[0m┃\u001b[1m \u001b[0m\u001b[1mOutput Shape          \u001b[0m\u001b[1m \u001b[0m┃\u001b[1m \u001b[0m\u001b[1m      Param #\u001b[0m\u001b[1m \u001b[0m┃\n",
       "┡━━━━━━━━━━━━━━━━━━━━━━━━━━━━━━━━━╇━━━━━━━━━━━━━━━━━━━━━━━━╇━━━━━━━━━━━━━━━┩\n",
       "│ embedding_2 (\u001b[38;5;33mEmbedding\u001b[0m)         │ (\u001b[38;5;45mNone\u001b[0m, \u001b[38;5;34m500\u001b[0m, \u001b[38;5;34m128\u001b[0m)       │     \u001b[38;5;34m1,280,000\u001b[0m │\n",
       "├─────────────────────────────────┼────────────────────────┼───────────────┤\n",
       "│ simple_rnn_2 (\u001b[38;5;33mSimpleRNN\u001b[0m)        │ (\u001b[38;5;45mNone\u001b[0m, \u001b[38;5;34m128\u001b[0m)            │        \u001b[38;5;34m32,896\u001b[0m │\n",
       "├─────────────────────────────────┼────────────────────────┼───────────────┤\n",
       "│ dense_2 (\u001b[38;5;33mDense\u001b[0m)                 │ (\u001b[38;5;45mNone\u001b[0m, \u001b[38;5;34m1\u001b[0m)              │           \u001b[38;5;34m129\u001b[0m │\n",
       "└─────────────────────────────────┴────────────────────────┴───────────────┘\n"
      ]
     },
     "metadata": {},
     "output_type": "display_data"
    },
    {
     "data": {
      "text/html": [
       "<pre style=\"white-space:pre;overflow-x:auto;line-height:normal;font-family:Menlo,'DejaVu Sans Mono',consolas,'Courier New',monospace\"><span style=\"font-weight: bold\"> Total params: </span><span style=\"color: #00af00; text-decoration-color: #00af00\">1,313,027</span> (5.01 MB)\n",
       "</pre>\n"
      ],
      "text/plain": [
       "\u001b[1m Total params: \u001b[0m\u001b[38;5;34m1,313,027\u001b[0m (5.01 MB)\n"
      ]
     },
     "metadata": {},
     "output_type": "display_data"
    },
    {
     "data": {
      "text/html": [
       "<pre style=\"white-space:pre;overflow-x:auto;line-height:normal;font-family:Menlo,'DejaVu Sans Mono',consolas,'Courier New',monospace\"><span style=\"font-weight: bold\"> Trainable params: </span><span style=\"color: #00af00; text-decoration-color: #00af00\">1,313,025</span> (5.01 MB)\n",
       "</pre>\n"
      ],
      "text/plain": [
       "\u001b[1m Trainable params: \u001b[0m\u001b[38;5;34m1,313,025\u001b[0m (5.01 MB)\n"
      ]
     },
     "metadata": {},
     "output_type": "display_data"
    },
    {
     "data": {
      "text/html": [
       "<pre style=\"white-space:pre;overflow-x:auto;line-height:normal;font-family:Menlo,'DejaVu Sans Mono',consolas,'Courier New',monospace\"><span style=\"font-weight: bold\"> Non-trainable params: </span><span style=\"color: #00af00; text-decoration-color: #00af00\">0</span> (0.00 B)\n",
       "</pre>\n"
      ],
      "text/plain": [
       "\u001b[1m Non-trainable params: \u001b[0m\u001b[38;5;34m0\u001b[0m (0.00 B)\n"
      ]
     },
     "metadata": {},
     "output_type": "display_data"
    },
    {
     "data": {
      "text/html": [
       "<pre style=\"white-space:pre;overflow-x:auto;line-height:normal;font-family:Menlo,'DejaVu Sans Mono',consolas,'Courier New',monospace\"><span style=\"font-weight: bold\"> Optimizer params: </span><span style=\"color: #00af00; text-decoration-color: #00af00\">2</span> (12.00 B)\n",
       "</pre>\n"
      ],
      "text/plain": [
       "\u001b[1m Optimizer params: \u001b[0m\u001b[38;5;34m2\u001b[0m (12.00 B)\n"
      ]
     },
     "metadata": {},
     "output_type": "display_data"
    }
   ],
   "source": [
    "model.summary()"
   ]
  },
  {
   "cell_type": "code",
   "execution_count": 7,
   "id": "296d8f1b",
   "metadata": {},
   "outputs": [
    {
     "data": {
      "text/plain": [
       "[array([[ 0.12440263, -0.51913583,  0.4254487 , ..., -1.0100019 ,\n",
       "          0.27710584,  0.6033201 ],\n",
       "        [-0.02788407,  0.04477459, -0.08626274, ...,  0.10977764,\n",
       "          0.06361658,  0.01854677],\n",
       "        [-0.00900952, -0.06232808,  0.07370035, ..., -0.16586636,\n",
       "          0.0792648 ,  0.02438283],\n",
       "        ...,\n",
       "        [ 0.02437093,  0.07446229,  0.08194964, ..., -0.09461765,\n",
       "          0.11890841,  0.01033389],\n",
       "        [-0.0894896 ,  0.02647305,  0.04774762, ...,  0.01068259,\n",
       "          0.02206395, -0.0213533 ],\n",
       "        [ 0.01885969, -0.04729675,  0.04896117, ...,  0.08290951,\n",
       "         -0.09957831, -0.15884167]], dtype=float32),\n",
       " array([[-0.04653981,  0.11649341, -0.1230546 , ..., -0.03725571,\n",
       "         -0.08394067,  0.06281791],\n",
       "        [ 0.09014158, -0.10390167, -0.03344658, ...,  0.15214507,\n",
       "         -0.10416505,  0.02582823],\n",
       "        [ 0.14299262, -0.10541645,  0.1587978 , ...,  0.09407657,\n",
       "         -0.0763213 , -0.09340461],\n",
       "        ...,\n",
       "        [ 0.22579543,  0.1782142 , -0.19449653, ..., -0.02164683,\n",
       "          0.19258682, -0.07756893],\n",
       "        [-0.19181916,  0.04798834,  0.21125495, ...,  0.1196377 ,\n",
       "         -0.07045539,  0.15633662],\n",
       "        [-0.16441067, -0.02393415,  0.00735703, ...,  0.09574105,\n",
       "         -0.17175542, -0.17217055]], dtype=float32),\n",
       " array([[ 0.14857814, -0.13265479,  0.01573002, ...,  0.00747582,\n",
       "          0.08003336,  0.09609247],\n",
       "        [ 0.07840863,  0.03375468,  0.11637103, ..., -0.15413372,\n",
       "         -0.10841081, -0.14758877],\n",
       "        [ 0.1514629 , -0.08499117,  0.01066116, ..., -0.01018053,\n",
       "         -0.11821759, -0.08626513],\n",
       "        ...,\n",
       "        [-0.08464248,  0.08263089, -0.11992799, ...,  0.04341697,\n",
       "         -0.18928641, -0.06490596],\n",
       "        [-0.00642853,  0.06313086,  0.06119936, ..., -0.0407072 ,\n",
       "         -0.14590429, -0.08191494],\n",
       "        [-0.05256606,  0.10093881, -0.04767109, ...,  0.04660402,\n",
       "         -0.07320163, -0.06136522]], dtype=float32),\n",
       " array([-0.06677137, -0.00499665,  0.05089891, -0.01416599,  0.01508989,\n",
       "         0.0015556 , -0.03071141,  0.01102031, -0.07244129,  0.0122077 ,\n",
       "        -0.06487412, -0.02018281, -0.02243919, -0.02574669, -0.05979892,\n",
       "        -0.04748964,  0.00566253, -0.00735285, -0.02093606, -0.00558421,\n",
       "        -0.0014812 ,  0.00234514, -0.0081977 ,  0.00414544, -0.02149799,\n",
       "        -0.00233793, -0.00410164, -0.00891822, -0.0415421 , -0.04338258,\n",
       "        -0.02412343, -0.02004351,  0.06529313, -0.06425205, -0.03785474,\n",
       "         0.06116311,  0.0128367 , -0.0341492 ,  0.0134823 , -0.00449604,\n",
       "        -0.00855375,  0.07341639, -0.00906497, -0.00733392, -0.0194652 ,\n",
       "        -0.02740617, -0.0367078 , -0.0352043 , -0.03872522, -0.05646261,\n",
       "        -0.04770594, -0.03616108, -0.00655609, -0.03436766, -0.02060137,\n",
       "         0.01319217, -0.047459  , -0.03271885, -0.06361529,  0.00040086,\n",
       "        -0.02423916, -0.01522481,  0.04704939, -0.01287402, -0.03976085,\n",
       "        -0.0368136 , -0.05646595,  0.02221902, -0.02020616, -0.01361752,\n",
       "         0.03037713,  0.01064603,  0.06306411, -0.06864099, -0.02554197,\n",
       "        -0.04319048, -0.05570512, -0.02413206,  0.06217159, -0.020113  ,\n",
       "        -0.04470854,  0.00568325, -0.00686981, -0.03910733, -0.02885044,\n",
       "        -0.0141249 , -0.03029632,  0.02550299, -0.01859402, -0.03769084,\n",
       "         0.01530586,  0.02909076, -0.0371554 , -0.04403811, -0.02816572,\n",
       "        -0.00921411,  0.00916838, -0.0373303 , -0.01694509, -0.03215305,\n",
       "        -0.01175839, -0.02087199, -0.04630168, -0.02720079, -0.07792705,\n",
       "        -0.0254    , -0.00685215, -0.00458322, -0.0529305 ,  0.00804296,\n",
       "        -0.04138748, -0.0303409 , -0.02501886, -0.01167187, -0.03533732,\n",
       "        -0.03993346, -0.00932002,  0.03442612, -0.0849911 , -0.03609974,\n",
       "        -0.06407571, -0.05804665, -0.01670564,  0.05105608, -0.01210967,\n",
       "        -0.00898452, -0.05226111, -0.08638807], dtype=float32),\n",
       " array([[-0.01964697],\n",
       "        [-0.14214434],\n",
       "        [ 0.14280812],\n",
       "        [-0.18991709],\n",
       "        [ 0.20350356],\n",
       "        [-0.07871601],\n",
       "        [-0.1468768 ],\n",
       "        [-0.15167676],\n",
       "        [-0.19008912],\n",
       "        [-0.07014486],\n",
       "        [ 0.25765163],\n",
       "        [-0.14170259],\n",
       "        [ 0.11250909],\n",
       "        [-0.2599135 ],\n",
       "        [-0.09933691],\n",
       "        [-0.12457015],\n",
       "        [ 0.02502534],\n",
       "        [ 0.22582689],\n",
       "        [ 0.0213145 ],\n",
       "        [ 0.43263894],\n",
       "        [ 0.11235261],\n",
       "        [-0.12274639],\n",
       "        [-0.19246525],\n",
       "        [ 0.0886814 ],\n",
       "        [ 1.6412599 ],\n",
       "        [ 0.08692632],\n",
       "        [-0.19052283],\n",
       "        [-0.01845211],\n",
       "        [ 0.13531183],\n",
       "        [ 0.10889905],\n",
       "        [ 0.11765653],\n",
       "        [ 0.0911054 ],\n",
       "        [-0.42221934],\n",
       "        [-0.11488055],\n",
       "        [ 0.12714623],\n",
       "        [ 0.05614991],\n",
       "        [ 0.07941509],\n",
       "        [ 0.27847087],\n",
       "        [-0.20339733],\n",
       "        [ 0.23010096],\n",
       "        [ 0.12110177],\n",
       "        [ 0.23472999],\n",
       "        [-0.15979129],\n",
       "        [-0.06888607],\n",
       "        [-0.11735234],\n",
       "        [ 0.0149094 ],\n",
       "        [-0.03131524],\n",
       "        [ 0.08739518],\n",
       "        [ 0.11372877],\n",
       "        [ 0.3428455 ],\n",
       "        [-0.08737788],\n",
       "        [-0.18049328],\n",
       "        [-0.07330825],\n",
       "        [ 0.11805233],\n",
       "        [-0.16784535],\n",
       "        [-0.1835774 ],\n",
       "        [ 0.27777332],\n",
       "        [-0.04622166],\n",
       "        [-0.6674787 ],\n",
       "        [ 0.21835116],\n",
       "        [ 0.10250383],\n",
       "        [-0.05650674],\n",
       "        [ 0.14830846],\n",
       "        [-0.3228151 ],\n",
       "        [-0.30036983],\n",
       "        [-0.11981683],\n",
       "        [-0.03042883],\n",
       "        [-0.18338339],\n",
       "        [ 0.12026427],\n",
       "        [-0.17834684],\n",
       "        [-0.23779863],\n",
       "        [-0.03070014],\n",
       "        [ 0.18625133],\n",
       "        [-0.21352161],\n",
       "        [-0.0353872 ],\n",
       "        [-0.16139963],\n",
       "        [ 2.135836  ],\n",
       "        [ 0.31126466],\n",
       "        [-0.18580437],\n",
       "        [-0.19971497],\n",
       "        [-0.20186934],\n",
       "        [ 0.1388622 ],\n",
       "        [-0.21213575],\n",
       "        [ 0.13939936],\n",
       "        [-0.1944593 ],\n",
       "        [-0.12124975],\n",
       "        [-0.11318698],\n",
       "        [-0.17348759],\n",
       "        [-0.04313932],\n",
       "        [-0.15405634],\n",
       "        [ 0.32723078],\n",
       "        [ 0.36207268],\n",
       "        [-0.15661804],\n",
       "        [ 0.05169907],\n",
       "        [ 0.28387898],\n",
       "        [ 0.88535935],\n",
       "        [ 0.02929354],\n",
       "        [-0.06304419],\n",
       "        [-0.10473528],\n",
       "        [ 0.02149014],\n",
       "        [-0.02579042],\n",
       "        [ 0.12008806],\n",
       "        [-0.5478015 ],\n",
       "        [ 0.03131079],\n",
       "        [ 0.15336676],\n",
       "        [-1.2590077 ],\n",
       "        [-0.337824  ],\n",
       "        [-0.6351843 ],\n",
       "        [ 0.01864663],\n",
       "        [-0.01584757],\n",
       "        [ 0.08581835],\n",
       "        [-0.22044711],\n",
       "        [-0.09597414],\n",
       "        [-0.0197096 ],\n",
       "        [-0.08369147],\n",
       "        [ 0.26346502],\n",
       "        [-0.18118489],\n",
       "        [-0.02969697],\n",
       "        [-0.4587843 ],\n",
       "        [ 0.08203505],\n",
       "        [-0.42685318],\n",
       "        [-0.2556034 ],\n",
       "        [ 0.1937704 ],\n",
       "        [ 0.05618877],\n",
       "        [-0.14297646],\n",
       "        [ 0.16740485],\n",
       "        [-0.11239718],\n",
       "        [-0.18977712]], dtype=float32),\n",
       " array([0.50057876], dtype=float32)]"
      ]
     },
     "execution_count": 7,
     "metadata": {},
     "output_type": "execute_result"
    }
   ],
   "source": [
    "model.get_weights()"
   ]
  },
  {
   "cell_type": "code",
   "execution_count": 8,
   "id": "7de04dd9",
   "metadata": {},
   "outputs": [],
   "source": [
    "## Helper Function\n",
    "def decode_review(encoded_review):\n",
    "    \"\"\"\n",
    "    Decode the review text\n",
    "    \"\"\"\n",
    "    return ' '.join([reverse_word_index.get(i - 3, '?') for i in encoded_review])\n",
    "\n",
    "## Function to predict user input\n",
    "def preprocess_text(text):\n",
    "    words=text.lower().split()\n",
    "    encoded_review=[word_index.get(word,2)+3 for word in words]\n",
    "    padded_review=sequence.pad_sequences([encoded_review], maxlen=500)\n",
    "    return padded_review"
   ]
  },
  {
   "cell_type": "code",
   "execution_count": null,
   "id": "1b40ad0c",
   "metadata": {},
   "outputs": [],
   "source": [
    "## Prediction Function\n",
    "def predict_sentiment(review):\n",
    "    preprocessed_input=preprocess_text(review)\n",
    "    model_prediction=model.predict(preprocessed_input)\n",
    "    sentiment_score=model_prediction[0][0]\n",
    "    if sentiment_score > 0.5:\n",
    "        sentiment='Positive'\n",
    "    else:\n",
    "        sentiment='Negative'\n",
    "    return model_prediction, sentiment_score\n"
   ]
  },
  {
   "cell_type": "code",
   "execution_count": 11,
   "id": "10b749fa",
   "metadata": {},
   "outputs": [
    {
     "name": "stdout",
     "output_type": "stream",
     "text": [
      "\u001b[1m1/1\u001b[0m \u001b[32m━━━━━━━━━━━━━━━━━━━━\u001b[0m\u001b[37m\u001b[0m \u001b[1m0s\u001b[0m 191ms/step\n",
      "Review: The movie was fantastic! I loved it.\n",
      "Sentiment Score: 0.999991238117218\n",
      "Predicted Sentiment: Positive\n"
     ]
    }
   ],
   "source": [
    "## User Input ANd Prediction\n",
    "example_review=\"The movie was fantastic! I loved it.\"\n",
    "sentiment, score = predict_sentiment(example_review)\n",
    "print(f\"Review: {example_review}\")\n",
    "print(f\"Sentiment Score: {score}\")\n",
    "print(f\"Predicted Sentiment: {sentiment}\")"
   ]
  },
  {
   "cell_type": "code",
   "execution_count": null,
   "id": "f963fd38",
   "metadata": {},
   "outputs": [],
   "source": []
  }
 ],
 "metadata": {
  "kernelspec": {
   "display_name": "Python 3",
   "language": "python",
   "name": "python3"
  },
  "language_info": {
   "codemirror_mode": {
    "name": "ipython",
    "version": 3
   },
   "file_extension": ".py",
   "mimetype": "text/x-python",
   "name": "python",
   "nbconvert_exporter": "python",
   "pygments_lexer": "ipython3",
   "version": "3.12.0"
  }
 },
 "nbformat": 4,
 "nbformat_minor": 5
}
